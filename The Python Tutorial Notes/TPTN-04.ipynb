{
 "cells": [
  {
   "cell_type": "markdown",
   "id": "abe32c04-768a-4128-ad2f-313d4718137c",
   "metadata": {},
   "source": [
    "# The Python Tutorial Notes\n",
    "\n",
    "### 3.2. First Steps Towards Programming\n",
    "\n",
    "Primeiro exemplo de um código em Python."
   ]
  },
  {
   "cell_type": "code",
   "execution_count": 1,
   "id": "75f08393-aea1-415f-921c-e2118e0e44d1",
   "metadata": {
    "tags": []
   },
   "outputs": [
    {
     "name": "stdout",
     "output_type": "stream",
     "text": [
      "0, 1, 1, 2, 3, 5, 8, 13, 21, 34, 55, 89, 144, 233, 377, 610, 987, "
     ]
    }
   ],
   "source": [
    "# Sequencia de Fibonacci\n",
    "a, b = 0, 1\n",
    "while a < 1000:\n",
    "    print (a, end=', ')\n",
    "    a, b = b, a + b"
   ]
  },
  {
   "cell_type": "markdown",
   "id": "e4091f78-0c20-4116-97f8-d35e12149332",
   "metadata": {},
   "source": [
    "- na primeira linha temos uma atribuição múltipla;\n",
    "- o loop `while` roda enquanto a condição for verdadeira;\n",
    "    - `<`, `>`, `==`, `<=`, `>=`, `!=`\n",
    "- a indentação agrupa as declarações em Python."
   ]
  },
  {
   "cell_type": "markdown",
   "id": "10e2dfa4-14ed-4732-a282-1547ddc00549",
   "metadata": {},
   "source": [
    "## 4. More Control Flow Tools\n",
    "\n",
    "### 4.1. `if` Statements"
   ]
  },
  {
   "cell_type": "code",
   "execution_count": 5,
   "id": "958983d4-4274-4d19-a2c6-c02d29201c19",
   "metadata": {
    "tags": []
   },
   "outputs": [
    {
     "name": "stdin",
     "output_type": "stream",
     "text": [
      "Insira um número inteiro:  -534\n"
     ]
    },
    {
     "name": "stdout",
     "output_type": "stream",
     "text": [
      "Número negativo virou zero\n"
     ]
    }
   ],
   "source": [
    "x = int(input(\"Insira um número inteiro: \"))\n",
    "if x < 0:\n",
    "    x = 0\n",
    "    print(\"Número negativo virou zero\")\n",
    "elif x == 0:\n",
    "    print(\"zero\")\n",
    "elif x == 1:\n",
    "    print(\"único\")\n",
    "else:\n",
    "    print(\"muitos\")"
   ]
  },
  {
   "cell_type": "markdown",
   "id": "91caf570-ffbc-4f0d-b130-30551d896d9f",
   "metadata": {},
   "source": [
    "- podem existir 0 ou mais partes `elif`;\n",
    "- a parte `else` é opcional."
   ]
  },
  {
   "cell_type": "markdown",
   "id": "d15fb787-7071-4efe-94a3-f59b8ab1e02e",
   "metadata": {},
   "source": [
    "### 4.2. `for` Statements\n",
    "\n",
    "As declarações `for` em Python iteram sob itens de qualquer sequencia (listas ou strings) na ordem que estão."
   ]
  },
  {
   "cell_type": "code",
   "execution_count": 6,
   "id": "b2a3ae12-63c9-4404-939a-7ba8e82b15f9",
   "metadata": {
    "tags": []
   },
   "outputs": [
    {
     "name": "stdout",
     "output_type": "stream",
     "text": [
      "gato 4\n",
      "banjo 5\n",
      "amizade 7\n",
      "bala de coco 12\n"
     ]
    }
   ],
   "source": [
    "# Medindo strings\n",
    "words = ['gato', 'banjo', 'amizade', 'bala de coco']\n",
    "for w in words:\n",
    "    print(w, len(w))"
   ]
  },
  {
   "cell_type": "markdown",
   "id": "062da1df-e349-419b-96fd-367b8df2d9ea",
   "metadata": {},
   "source": [
    "Iterar sob um coleção enquanto a modifica pode ser complicado, veja algumas possíveis soluções:"
   ]
  },
  {
   "cell_type": "code",
   "execution_count": 8,
   "id": "c9b32f55-d651-4cf1-b664-a9c2e9926ed6",
   "metadata": {
    "tags": []
   },
   "outputs": [],
   "source": [
    "usuários = {'Spirulino': 'ativo', 'Pimentinha': 'inativo', 'Boldo': 'inativo'}\n",
    "\n",
    "# Estratégia I: iterar sob uma cópia\n",
    "for usuário, status in usuários.copy().items():\n",
    "    if status == 'inativo':\n",
    "        del usuários[usuário]\n",
    "        \n",
    "# Estratégia II: criar uma nova coleção\n",
    "usuários_ativos = {}\n",
    "for usuário, status in usuários.items():\n",
    "    if status == 'ativo':\n",
    "        usuários_ativos[usuário] = status"
   ]
  },
  {
   "cell_type": "markdown",
   "id": "7f4012c7-fd5f-4248-ba69-1c46e647d1ec",
   "metadata": {},
   "source": [
    "### The `range()` Function\n",
    "\n",
    "Caso precise iterar sob uma sequencia de números basta usar a função *built-in* (embutida) `range()`. Ela gera uma proogressão aritmética."
   ]
  },
  {
   "cell_type": "code",
   "execution_count": 12,
   "id": "a8da73fa-de11-41a2-89b9-492e75de7c5a",
   "metadata": {
    "tags": []
   },
   "outputs": [
    {
     "name": "stdout",
     "output_type": "stream",
     "text": [
      "0\n",
      "1\n",
      "2\n",
      "3\n",
      "4\n"
     ]
    }
   ],
   "source": [
    "for i in range(5): # o valor é excluso\n",
    "    print(i)"
   ]
  },
  {
   "cell_type": "markdown",
   "id": "aacd4220-6240-4173-8c7f-1dbd812a7c4a",
   "metadata": {
    "tags": []
   },
   "source": [
    "Você pode indicar um intervalo e até a razão."
   ]
  },
  {
   "cell_type": "code",
   "execution_count": 13,
   "id": "11d0454c-f5b5-4c2e-b14e-ded738b06661",
   "metadata": {
    "tags": []
   },
   "outputs": [
    {
     "data": {
      "text/plain": [
       "[5, 6, 7, 8, 9]"
      ]
     },
     "execution_count": 13,
     "metadata": {},
     "output_type": "execute_result"
    }
   ],
   "source": [
    "list(range(5, 10))"
   ]
  },
  {
   "cell_type": "code",
   "execution_count": 14,
   "id": "b87ec487-3a47-4b91-8df6-3b4e3f079fdd",
   "metadata": {
    "tags": []
   },
   "outputs": [
    {
     "data": {
      "text/plain": [
       "[0, 3, 6, 9]"
      ]
     },
     "execution_count": 14,
     "metadata": {},
     "output_type": "execute_result"
    }
   ],
   "source": [
    "list(range(0, 10, 3))"
   ]
  },
  {
   "cell_type": "code",
   "execution_count": 15,
   "id": "b9935909-bcf5-4ef4-90b7-d0bff193b674",
   "metadata": {
    "tags": []
   },
   "outputs": [
    {
     "data": {
      "text/plain": [
       "[-10, -40, -70]"
      ]
     },
     "execution_count": 15,
     "metadata": {},
     "output_type": "execute_result"
    }
   ],
   "source": [
    "list(range(-10, -100, -30))"
   ]
  },
  {
   "cell_type": "markdown",
   "id": "987185af-21b6-4e6b-a853-4be0104e432a",
   "metadata": {},
   "source": [
    "### 4.4. `break` and `continue` Statements, and `else` Clause on Loops\n",
    "\n",
    "A declaração `break` termina a execução do loop `for` ou `while` mais profundo.\n",
    "\n",
    "Declarações de loop têm até cláusula `else` (mais como o de uma declaração `try`), ela é executada quando o loop é rodado à exaustão, ou seja, não houve nenhum `break` (com o `for`) ou quando a condição passa a ser falsa (com o `while`)."
   ]
  },
  {
   "cell_type": "code",
   "execution_count": 17,
   "id": "c090951a-f67b-44a4-ab55-a0a860c53f11",
   "metadata": {
    "tags": []
   },
   "outputs": [
    {
     "name": "stdout",
     "output_type": "stream",
     "text": [
      "2 é um número primo\n",
      "3 é um número primo\n",
      "2 * 2 = 4\n",
      "5 é um número primo\n",
      "2 * 3 = 6\n",
      "7 é um número primo\n",
      "2 * 4 = 8\n",
      "3 * 3 = 9\n"
     ]
    }
   ],
   "source": [
    "for n in range(2, 10):\n",
    "    for x in range(2, n):\n",
    "        if n % x == 0:\n",
    "            print(x, '*', n//x, '=', n)\n",
    "            break\n",
    "    else: # observe que o else NÃO está alinhado com o if\n",
    "        # loop não encontrou um fator\n",
    "        print(n, 'é um número primo')"
   ]
  },
  {
   "cell_type": "markdown",
   "id": "74574aef-9ac5-4aa6-b364-25bd0b890a26",
   "metadata": {
    "tags": []
   },
   "source": [
    "A declaração `continue` pula para a próxima iteração."
   ]
  },
  {
   "cell_type": "code",
   "execution_count": 18,
   "id": "b882c776-995f-4299-ada5-0fac2fc4ce02",
   "metadata": {
    "tags": []
   },
   "outputs": [
    {
     "name": "stdout",
     "output_type": "stream",
     "text": [
      "impa\n",
      "pá\n",
      "impa\n",
      "pá\n",
      "impa\n",
      "pá\n",
      "impa\n",
      "pá\n"
     ]
    }
   ],
   "source": [
    "for num in range(2, 10):\n",
    "    if num % 2 == 0:\n",
    "        print('impa')\n",
    "        continue\n",
    "    print('pá')"
   ]
  },
  {
   "cell_type": "markdown",
   "id": "4748d00e-9265-4278-97b0-0490a7ad6a20",
   "metadata": {
    "tags": []
   },
   "source": [
    "### 4.5. `pass` Statements\n",
    "\n",
    "A declaração `pass` não faz nada, ela é silenciosamente ignorada."
   ]
  },
  {
   "cell_type": "code",
   "execution_count": 21,
   "id": "184c7d64-1370-4c55-a9a8-61bbd4eeca24",
   "metadata": {
    "tags": []
   },
   "outputs": [],
   "source": [
    "def uma_função_ainda_não_implementada(*args):\n",
    "    pass # Lembrar de implementar !!!"
   ]
  },
  {
   "cell_type": "markdown",
   "id": "4b9e6606-928e-4197-a40f-50634ac4a059",
   "metadata": {
    "tags": []
   },
   "source": [
    "### 4.6. `match` Statements\n",
    "\n",
    "Uma declaração `match` compara um valor a padrões sucessivos dado um ou mais blocos `case`."
   ]
  },
  {
   "cell_type": "code",
   "execution_count": 1,
   "id": "431f79c5-3c85-40bd-879f-a1e2c3144fdb",
   "metadata": {
    "tags": []
   },
   "outputs": [],
   "source": [
    "def http_error(status):\n",
    "    match status:\n",
    "        case 400:\n",
    "            return \"Bad request\"\n",
    "        case 401 | 403 | 404:\n",
    "            return \"Not found\"\n",
    "        case 418:\n",
    "            return \"I'm a teapot\"\n",
    "        case _:\n",
    "            return \"Something's wrong with the internet\""
   ]
  },
  {
   "cell_type": "markdown",
   "id": "41fd168d-26e2-4fb9-8428-44659f2b381c",
   "metadata": {},
   "source": [
    "Os pipes combinam padrões.\n",
    "\n",
    "O último bloco possui um coringa (*wildcard*), ele combina com qualquer padrão."
   ]
  },
  {
   "cell_type": "markdown",
   "id": "e75ee391-e346-46f6-9339-d025e413bad4",
   "metadata": {},
   "source": [
    "### 4.7. Defining Functions"
   ]
  },
  {
   "cell_type": "markdown",
   "id": "945300b1-31aa-4740-9a8d-77e55aef47b1",
   "metadata": {},
   "source": [
    "### 4.8. More on Defining Functions"
   ]
  },
  {
   "cell_type": "markdown",
   "id": "93eaa9e8-1029-45c2-a8a8-e1ffc75c2804",
   "metadata": {},
   "source": [
    "#### 4.8.1. Default Argument Values"
   ]
  },
  {
   "cell_type": "markdown",
   "id": "d8d14835-3d18-44de-9c70-129e8fa01f69",
   "metadata": {},
   "source": [
    "### 4.8.2. Keyword Arguments"
   ]
  },
  {
   "cell_type": "markdown",
   "id": "96416935-c5f7-4a1d-917f-87444448c75d",
   "metadata": {},
   "source": [
    "#### 4.8.3. Special parameters"
   ]
  },
  {
   "cell_type": "markdown",
   "id": "4b6e7e4f-335d-444f-a3c0-536dcdc9470c",
   "metadata": {},
   "source": [
    "##### 4.8.3.1. Positional-or-Keyword Arguments"
   ]
  },
  {
   "cell_type": "markdown",
   "id": "c1de8041-dfcd-42b7-92cd-75c69e43231d",
   "metadata": {},
   "source": [
    "### 4.8.3.2. Positional-Only Parameters"
   ]
  },
  {
   "cell_type": "markdown",
   "id": "f7414eca-04e1-4927-aa89-57712ca506b9",
   "metadata": {},
   "source": [
    "##### 4.8.3.3. Keyword-Only Arguments"
   ]
  },
  {
   "cell_type": "markdown",
   "id": "4f468601-172b-4c16-b5d1-1d0ddacf2254",
   "metadata": {},
   "source": [
    "##### 4.8.3.4. Function Examples"
   ]
  },
  {
   "cell_type": "markdown",
   "id": "9f011cf6-07e0-4045-a7f5-3a9d63fc3925",
   "metadata": {},
   "source": [
    "##### 4.8.3.5. Recap"
   ]
  },
  {
   "cell_type": "markdown",
   "id": "9cecaa30-cd4d-4153-9028-fcb64fb163c3",
   "metadata": {},
   "source": [
    "#### 4.8.4. Arbitrary Argument Lists"
   ]
  },
  {
   "cell_type": "markdown",
   "id": "a19293df-3a0a-4b57-8a24-0f3ab3b5d7ec",
   "metadata": {},
   "source": [
    "#### 4.8.5. Unpacking Argument Lists"
   ]
  },
  {
   "cell_type": "markdown",
   "id": "75d41f25-3295-43ef-83c0-160c99bb0a97",
   "metadata": {},
   "source": [
    "#### 4.8.6. Lambda Expressions"
   ]
  },
  {
   "cell_type": "markdown",
   "id": "97d2b3e2-bff6-4b3b-8ec1-874c4e762ac1",
   "metadata": {},
   "source": [
    "#### 4.8.7. Documentation Strings"
   ]
  },
  {
   "cell_type": "markdown",
   "id": "52820f7b-cfd8-4f82-a392-47c1b31598ad",
   "metadata": {},
   "source": [
    "#### 4.8.8. Function Annotations"
   ]
  },
  {
   "cell_type": "markdown",
   "id": "674f2eb4-4f60-4225-a9a1-f31290469246",
   "metadata": {},
   "source": [
    "### 4.9. Intermezzo: Coding Style"
   ]
  }
 ],
 "metadata": {
  "kernelspec": {
   "display_name": "Python 3 (ipykernel)",
   "language": "python",
   "name": "python3"
  },
  "language_info": {
   "codemirror_mode": {
    "name": "ipython",
    "version": 3
   },
   "file_extension": ".py",
   "mimetype": "text/x-python",
   "name": "python",
   "nbconvert_exporter": "python",
   "pygments_lexer": "ipython3",
   "version": "3.10.7"
  }
 },
 "nbformat": 4,
 "nbformat_minor": 5
}
