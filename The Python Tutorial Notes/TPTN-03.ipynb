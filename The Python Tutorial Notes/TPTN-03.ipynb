{
 "cells": [
  {
   "cell_type": "markdown",
   "id": "f6221779-b379-46db-b574-ece6c069a2ac",
   "metadata": {},
   "source": [
    "# The Python Tutorial Notes\n",
    "## 3. An Informal Introduction to Python"
   ]
  },
  {
   "cell_type": "code",
   "execution_count": 1,
   "id": "f7c2f4ad-8704-4f34-a739-b276fc8b5f90",
   "metadata": {
    "tags": []
   },
   "outputs": [],
   "source": [
    "spam = 1 # isso é um comentário\n",
    "text = \"# isso não é um comentário\"\n",
    "# um comentário deve começar no final da linha"
   ]
  },
  {
   "cell_type": "markdown",
   "id": "99f5e83b-b10f-4fc6-b461-a735b5a7b9d3",
   "metadata": {},
   "source": [
    "### 3.1. Using Python as a Calculator\n",
    "\n",
    "#### 3.1.1. Numbers\n",
    "\n",
    "O interpretador pode ser utilizado como uma calculadora simples: ao receber uma expressão matemática ele a resolve.\n",
    "\n",
    "As operações de soma, subtração, multiplicação e divisão são feitas com os operadores `+`, `-`, `*`, `/`, e é possível agrupar com os parenteses `(...)`."
   ]
  },
  {
   "cell_type": "code",
   "execution_count": 2,
   "id": "b6da8dc7-61c6-48d0-929a-bb6f8a882517",
   "metadata": {
    "tags": []
   },
   "outputs": [
    {
     "data": {
      "text/plain": [
       "4"
      ]
     },
     "execution_count": 2,
     "metadata": {},
     "output_type": "execute_result"
    }
   ],
   "source": [
    "2 + 2"
   ]
  },
  {
   "cell_type": "code",
   "execution_count": 3,
   "id": "2a67e19c-c27c-41c8-8222-b1dbd6691456",
   "metadata": {
    "tags": []
   },
   "outputs": [
    {
     "data": {
      "text/plain": [
       "20"
      ]
     },
     "execution_count": 3,
     "metadata": {},
     "output_type": "execute_result"
    }
   ],
   "source": [
    "50 - 5 * 6"
   ]
  },
  {
   "cell_type": "code",
   "execution_count": 4,
   "id": "aef87eca-773d-4eb9-ae71-33b7246559a1",
   "metadata": {
    "tags": []
   },
   "outputs": [
    {
     "data": {
      "text/plain": [
       "5.0"
      ]
     },
     "execution_count": 4,
     "metadata": {},
     "output_type": "execute_result"
    }
   ],
   "source": [
    "(50 - 5 * 6) / 4"
   ]
  },
  {
   "cell_type": "code",
   "execution_count": 5,
   "id": "57716e25-de04-481f-9fbc-cfec05043a19",
   "metadata": {
    "tags": []
   },
   "outputs": [
    {
     "data": {
      "text/plain": [
       "1.6"
      ]
     },
     "execution_count": 5,
     "metadata": {},
     "output_type": "execute_result"
    }
   ],
   "source": [
    "8 / 5"
   ]
  },
  {
   "cell_type": "markdown",
   "id": "fb5b8d05-979d-4196-9ef2-ebdaf25ed9f4",
   "metadata": {},
   "source": [
    "A divisão \"clássica\" sempre devolve um número do tipo `float` (de ponto flutuante).\n",
    "\n",
    "O operador `//` faz a divisão arredondada, sempre descartando a parte fracionária.\n",
    "\n",
    "Para calcular o resto utilizamos o operador `%`."
   ]
  },
  {
   "cell_type": "code",
   "execution_count": 6,
   "id": "b36aa81f-ae4c-42ac-9e68-db560c50c8c7",
   "metadata": {
    "tags": []
   },
   "outputs": [
    {
     "data": {
      "text/plain": [
       "5.666666666666667"
      ]
     },
     "execution_count": 6,
     "metadata": {},
     "output_type": "execute_result"
    }
   ],
   "source": [
    "17 / 3 # o que definimos como divisão \"clássica\""
   ]
  },
  {
   "cell_type": "code",
   "execution_count": 7,
   "id": "13837a45-74d6-4e63-9bad-49f642ba13ef",
   "metadata": {
    "tags": []
   },
   "outputs": [
    {
     "data": {
      "text/plain": [
       "5"
      ]
     },
     "execution_count": 7,
     "metadata": {},
     "output_type": "execute_result"
    }
   ],
   "source": [
    "17 // 3 # a parte fracionária é dercartada"
   ]
  },
  {
   "cell_type": "code",
   "execution_count": 8,
   "id": "970259cf-9ad1-4911-9d67-25a986c2dff9",
   "metadata": {
    "tags": []
   },
   "outputs": [
    {
     "data": {
      "text/plain": [
       "2"
      ]
     },
     "execution_count": 8,
     "metadata": {},
     "output_type": "execute_result"
    }
   ],
   "source": [
    "17 % 3 # a parte fracionária é mantida (2/3)"
   ]
  },
  {
   "cell_type": "code",
   "execution_count": 10,
   "id": "b363c788-72ab-4247-b9f8-7d9c8b0139bf",
   "metadata": {
    "tags": []
   },
   "outputs": [
    {
     "data": {
      "text/plain": [
       "17"
      ]
     },
     "execution_count": 10,
     "metadata": {},
     "output_type": "execute_result"
    }
   ],
   "source": [
    "5 * 3 + 2 # (17 // 3) * 3 + 17 % 3"
   ]
  },
  {
   "cell_type": "markdown",
   "id": "4deb0963-9cc2-463a-9647-c2f66359a875",
   "metadata": {},
   "source": [
    "A pontenciação é indicada pelo operador `**`."
   ]
  },
  {
   "cell_type": "code",
   "execution_count": 11,
   "id": "0c8423ba-d8a1-4a49-8ba4-468aa3a9a892",
   "metadata": {
    "tags": []
   },
   "outputs": [
    {
     "data": {
      "text/plain": [
       "25"
      ]
     },
     "execution_count": 11,
     "metadata": {},
     "output_type": "execute_result"
    }
   ],
   "source": [
    "5 ** 2 # 5 ao quadrado"
   ]
  },
  {
   "cell_type": "code",
   "execution_count": 13,
   "id": "6e00c6d0-355e-48c0-87a3-c00d62e1cdfd",
   "metadata": {
    "tags": []
   },
   "outputs": [
    {
     "data": {
      "text/plain": [
       "128"
      ]
     },
     "execution_count": 13,
     "metadata": {},
     "output_type": "execute_result"
    }
   ],
   "source": [
    "2 ** 7 # 7 à quinta potência"
   ]
  },
  {
   "cell_type": "markdown",
   "id": "21caa7f0-6c32-4559-9ca5-b82740fcc262",
   "metadata": {},
   "source": [
    "O sinal de igual `=` é utilizado para atribuir valores a uma variável."
   ]
  },
  {
   "cell_type": "code",
   "execution_count": 14,
   "id": "3da3fc6e-a90a-4592-b1cb-23e25ecdeb8e",
   "metadata": {
    "tags": []
   },
   "outputs": [
    {
     "data": {
      "text/plain": [
       "900"
      ]
     },
     "execution_count": 14,
     "metadata": {},
     "output_type": "execute_result"
    }
   ],
   "source": [
    "largura = 20\n",
    "altura = 45\n",
    "area = largura * altura\n",
    "area"
   ]
  },
  {
   "cell_type": "markdown",
   "id": "01068e61-6abc-4568-9df8-40ed5be8bba3",
   "metadata": {},
   "source": [
    "#### 3.1.2. Strings\n",
    "\n",
    "Além de números, com Python podemos manipular textos, as `strings` textos são demarcados por aspas simples `'...'` ou duplas `\"...\"`.\n",
    "\n",
    "Para escapar um caractere basta indicá-lo com a `\\` antes dele.\n",
    "\n",
    "> **Mas o que é escapar um caractere?**\n",
    ">\n",
    "> Quando utilizamos a barra invertida dentro de uma string indicamos para o interpretador que ele deve trocar a interpretação do próximo caractere, ou seja, se iria ser tratado como código ele passa a ser como texto e se seria interpretado como texto passa a ser como código."
   ]
  },
  {
   "cell_type": "code",
   "execution_count": 15,
   "id": "929559c5-be3a-4244-a7b4-73d282c20a34",
   "metadata": {
    "tags": []
   },
   "outputs": [
    {
     "data": {
      "text/plain": [
       "'spam eggs'"
      ]
     },
     "execution_count": 15,
     "metadata": {},
     "output_type": "execute_result"
    }
   ],
   "source": [
    "'spam eggs'"
   ]
  },
  {
   "cell_type": "code",
   "execution_count": 17,
   "id": "40256d9e-5898-40a3-97fb-24d321084fab",
   "metadata": {
    "tags": []
   },
   "outputs": [
    {
     "data": {
      "text/plain": [
       "\"doesn't\""
      ]
     },
     "execution_count": 17,
     "metadata": {},
     "output_type": "execute_result"
    }
   ],
   "source": [
    "'doesn\\'t' # observe as aspas externas"
   ]
  },
  {
   "cell_type": "code",
   "execution_count": 18,
   "id": "47c0d1a0-2bb1-4efa-aa1c-403a4575a9c4",
   "metadata": {
    "tags": []
   },
   "outputs": [
    {
     "data": {
      "text/plain": [
       "'\"Yes,\" they said.'"
      ]
     },
     "execution_count": 18,
     "metadata": {},
     "output_type": "execute_result"
    }
   ],
   "source": [
    "'\"Yes,\" they said.'"
   ]
  },
  {
   "cell_type": "code",
   "execution_count": 19,
   "id": "06e07f75-1db0-4ce1-8640-460c94db13d1",
   "metadata": {
    "tags": []
   },
   "outputs": [
    {
     "data": {
      "text/plain": [
       "'\"Yes,\" they said.'"
      ]
     },
     "execution_count": 19,
     "metadata": {},
     "output_type": "execute_result"
    }
   ],
   "source": [
    "\"\\\"Yes,\\\" they said.\""
   ]
  },
  {
   "cell_type": "code",
   "execution_count": 21,
   "id": "91a170e5-16f7-4ace-b576-9b81d3a95cd1",
   "metadata": {
    "tags": []
   },
   "outputs": [
    {
     "data": {
      "text/plain": [
       "'\"Isn\\'t,\" they said.'"
      ]
     },
     "execution_count": 21,
     "metadata": {},
     "output_type": "execute_result"
    }
   ],
   "source": [
    "'\"Isn\\'t,\" they said.' # o interpretador tem suas restrições"
   ]
  },
  {
   "cell_type": "markdown",
   "id": "7341e561-6fb5-4e51-9d93-48746b934055",
   "metadata": {},
   "source": [
    "A função `print()` produz uma saída mais legível omitindo as aspas externas e imprimindo caracteres escapados ou especiais."
   ]
  },
  {
   "cell_type": "code",
   "execution_count": 22,
   "id": "c00f4833-5c55-40c4-ba23-8942638f7f6c",
   "metadata": {
    "tags": []
   },
   "outputs": [
    {
     "name": "stdout",
     "output_type": "stream",
     "text": [
      "\"Isn't,\" they said.\n"
     ]
    }
   ],
   "source": [
    "print('\"Isn\\'t,\" they said.')"
   ]
  },
  {
   "cell_type": "code",
   "execution_count": 23,
   "id": "b8dd8762-657c-4686-880c-25a47c88379f",
   "metadata": {
    "tags": []
   },
   "outputs": [
    {
     "data": {
      "text/plain": [
       "'Primeira linha.\\nSegunda linha.'"
      ]
     },
     "execution_count": 23,
     "metadata": {},
     "output_type": "execute_result"
    }
   ],
   "source": [
    "s = \"Primeira linha.\\nSegunda linha.\"\n",
    "s"
   ]
  },
  {
   "cell_type": "code",
   "execution_count": 24,
   "id": "c21b6342-ed05-4db1-88c6-9b9f5066121e",
   "metadata": {
    "tags": []
   },
   "outputs": [
    {
     "name": "stdout",
     "output_type": "stream",
     "text": [
      "Primeira linha.\n",
      "Segunda linha.\n"
     ]
    }
   ],
   "source": [
    "print(s)"
   ]
  },
  {
   "cell_type": "markdown",
   "id": "c19c9933-1d83-40fd-b01c-3174ccf21851",
   "metadata": {},
   "source": [
    "*String literals* podem ocupar múltiplas linhas."
   ]
  },
  {
   "cell_type": "code",
   "execution_count": 25,
   "id": "a5383f6d-6177-4294-b501-a1db123054fb",
   "metadata": {
    "tags": []
   },
   "outputs": [
    {
     "name": "stdout",
     "output_type": "stream",
     "text": [
      "Usage: thingy [OPTIONS]\n",
      "     -h                        Display this usage message\n",
      "     -H hostname               Hostname to connect to\n",
      "\n"
     ]
    }
   ],
   "source": [
    "         # o escape após as aspas ignora a quebra de linha\n",
    "print(\"\"\"\\\n",
    "Usage: thingy [OPTIONS]\n",
    "     -h                        Display this usage message\n",
    "     -H hostname               Hostname to connect to\n",
    "\"\"\")"
   ]
  },
  {
   "cell_type": "markdown",
   "id": "a8cd4e7a-18bb-420b-99ca-e030a84843f4",
   "metadata": {},
   "source": [
    "As strings também têm suporte para os operadores `+` e `*` resultando na concatenação delas e suas repetições."
   ]
  },
  {
   "cell_type": "code",
   "execution_count": 26,
   "id": "ef7ece1d-a0aa-4e0f-9a75-20d278ea06a5",
   "metadata": {
    "tags": []
   },
   "outputs": [
    {
     "data": {
      "text/plain": [
       "'unununium'"
      ]
     },
     "execution_count": 26,
     "metadata": {},
     "output_type": "execute_result"
    }
   ],
   "source": [
    "3 * 'un' + 'ium'"
   ]
  },
  {
   "cell_type": "markdown",
   "id": "ebc03a47-b0ec-4bf0-a7f6-e1f2b5e9f2fd",
   "metadata": {},
   "source": [
    "Strings vizinhas são concatenadas, mas apenas quando são literais, então essa propriedade é poderosa quando queremos dividir uma string muito grande."
   ]
  },
  {
   "cell_type": "code",
   "execution_count": 27,
   "id": "80112305-beac-4315-a150-b388bf616bd8",
   "metadata": {
    "tags": []
   },
   "outputs": [
    {
     "data": {
      "text/plain": [
       "'Nádia'"
      ]
     },
     "execution_count": 27,
     "metadata": {},
     "output_type": "execute_result"
    }
   ],
   "source": [
    "'Ná' 'dia'"
   ]
  },
  {
   "cell_type": "code",
   "execution_count": 28,
   "id": "32cb4420-dbd2-493d-b6cd-e82d06dc6f9e",
   "metadata": {
    "tags": []
   },
   "outputs": [
    {
     "data": {
      "text/plain": [
       "'Uma frase muito grande pode ser dividida em strings menores e agrupada por parenteses'"
      ]
     },
     "execution_count": 28,
     "metadata": {},
     "output_type": "execute_result"
    }
   ],
   "source": [
    "texto = ('Uma frase muito grande pode ser '\n",
    "         'dividida em strings menores '\n",
    "         'e agrupada por parenteses')\n",
    "texto"
   ]
  },
  {
   "cell_type": "code",
   "execution_count": 29,
   "id": "c7409444-4589-49b6-9a8b-edd632d5e118",
   "metadata": {
    "tags": []
   },
   "outputs": [
    {
     "ename": "SyntaxError",
     "evalue": "invalid syntax (997001770.py, line 2)",
     "output_type": "error",
     "traceback": [
      "\u001b[0;36m  Cell \u001b[0;32mIn[29], line 2\u001b[0;36m\u001b[0m\n\u001b[0;31m    prefixo 'thon' # não é possível com variáveis\u001b[0m\n\u001b[0m            ^\u001b[0m\n\u001b[0;31mSyntaxError\u001b[0m\u001b[0;31m:\u001b[0m invalid syntax\n"
     ]
    }
   ],
   "source": [
    "prefixo = 'Py'\n",
    "prefixo 'thon' # não é possível com variáveis"
   ]
  },
  {
   "cell_type": "code",
   "execution_count": 30,
   "id": "694e7a7b-02ec-4aeb-8e02-bc2ea0b1d415",
   "metadata": {
    "tags": []
   },
   "outputs": [
    {
     "ename": "SyntaxError",
     "evalue": "invalid syntax (3183511804.py, line 1)",
     "output_type": "error",
     "traceback": [
      "\u001b[0;36m  Cell \u001b[0;32mIn[30], line 1\u001b[0;36m\u001b[0m\n\u001b[0;31m    ('un' * 3) 'ium' # nem expressões\u001b[0m\n\u001b[0m               ^\u001b[0m\n\u001b[0;31mSyntaxError\u001b[0m\u001b[0;31m:\u001b[0m invalid syntax\n"
     ]
    }
   ],
   "source": [
    "('un' * 3) 'ium' # nem expressões"
   ]
  },
  {
   "cell_type": "markdown",
   "id": "aab7ec7e-e669-4d24-b9d0-3468d3af1989",
   "metadata": {},
   "source": [
    "Os caracteres de uma string podem ser indexados, podendo ser contado de trás para frente também.\n",
    "\n",
    "~~~\n",
    "+---+---+---+---+---+---+---+---+---+---+\n",
    "| N | á | d | i | a | N | á | d | i | a |\n",
    "+---+---+---+---+---+---+---+---+---+---+\n",
    " -5  -4  -3  -2  -1   0   1   2   3   4\n",
    "~~~\n",
    "\n",
    "Um caractere é simplesmente uma string de tamanho 1."
   ]
  },
  {
   "cell_type": "code",
   "execution_count": 31,
   "id": "c63c2c8f-25e9-4995-a241-ddfc44d99416",
   "metadata": {
    "tags": []
   },
   "outputs": [
    {
     "data": {
      "text/plain": [
       "'N'"
      ]
     },
     "execution_count": 31,
     "metadata": {},
     "output_type": "execute_result"
    }
   ],
   "source": [
    "nome = 'Nádia'\n",
    "nome[0]"
   ]
  },
  {
   "cell_type": "code",
   "execution_count": 32,
   "id": "416eb919-a6fe-4e90-9e2f-0ba023820554",
   "metadata": {
    "tags": []
   },
   "outputs": [
    {
     "data": {
      "text/plain": [
       "'á'"
      ]
     },
     "execution_count": 32,
     "metadata": {},
     "output_type": "execute_result"
    }
   ],
   "source": [
    "nome[1]"
   ]
  },
  {
   "cell_type": "code",
   "execution_count": 33,
   "id": "1ccb58d8-10b4-47b0-b779-8bfaabc0d641",
   "metadata": {
    "tags": []
   },
   "outputs": [
    {
     "data": {
      "text/plain": [
       "'a'"
      ]
     },
     "execution_count": 33,
     "metadata": {},
     "output_type": "execute_result"
    }
   ],
   "source": [
    "nome[-1] # último caractere"
   ]
  },
  {
   "cell_type": "code",
   "execution_count": 34,
   "id": "f186b681-3c49-4705-b0e4-19132abbe1ec",
   "metadata": {
    "tags": []
   },
   "outputs": [
    {
     "data": {
      "text/plain": [
       "'N'"
      ]
     },
     "execution_count": 34,
     "metadata": {},
     "output_type": "execute_result"
    }
   ],
   "source": [
    "nome[-5]"
   ]
  },
  {
   "cell_type": "markdown",
   "id": "032fabb3-af75-42f3-9a61-471d92336a40",
   "metadata": {},
   "source": [
    "Podemos selecionar pedaços da string com o slice."
   ]
  },
  {
   "cell_type": "code",
   "execution_count": 36,
   "id": "d3f2a964-9ca1-4372-8c9a-9850189d69aa",
   "metadata": {
    "tags": []
   },
   "outputs": [
    {
     "data": {
      "text/plain": [
       "'Ná'"
      ]
     },
     "execution_count": 36,
     "metadata": {},
     "output_type": "execute_result"
    }
   ],
   "source": [
    "nome[0:2] # da posição 0 (inclusa) à 2 (exclusa)"
   ]
  },
  {
   "cell_type": "code",
   "execution_count": 37,
   "id": "625df2e8-3da1-42b9-b505-1f8eab01e8a0",
   "metadata": {
    "tags": []
   },
   "outputs": [
    {
     "data": {
      "text/plain": [
       "'dia'"
      ]
     },
     "execution_count": 37,
     "metadata": {},
     "output_type": "execute_result"
    }
   ],
   "source": [
    "nome[2:5] # da posição 0 (inclusa) à 5 (exclusa)"
   ]
  },
  {
   "cell_type": "markdown",
   "id": "0bc64269-2146-49ea-a7a7-6b3c8cd088ad",
   "metadata": {},
   "source": [
    "Omitir o primeiro valor indica o início e omitir o último indica o fim.\n",
    "\n",
    "Uma forma de lembrar como o slice funciona é pensar nos índices como o espaço depois do caractere anterior\n",
    "\n",
    "~~~\n",
    "início                     fim\n",
    "      +---+---+---+---+---+\n",
    "      | N | á | d | i | a |\n",
    "      ^   ^   ^   ^   ^   ^\n",
    "      0   1   2   3   4   5\n",
    "     -5  -4  -3  -2  -1\n",
    "~~~"
   ]
  },
  {
   "cell_type": "code",
   "execution_count": 38,
   "id": "ed3f2d99-0327-46e6-9de4-da9a32fec465",
   "metadata": {
    "tags": []
   },
   "outputs": [
    {
     "data": {
      "text/plain": [
       "'Ná'"
      ]
     },
     "execution_count": 38,
     "metadata": {},
     "output_type": "execute_result"
    }
   ],
   "source": [
    "nome[:2] # do início (incluso) à posição 2 (exclusa)"
   ]
  },
  {
   "cell_type": "code",
   "execution_count": 39,
   "id": "1c12bf80-9099-4b31-b7c3-a809d9ec7a9c",
   "metadata": {
    "tags": []
   },
   "outputs": [
    {
     "data": {
      "text/plain": [
       "'a'"
      ]
     },
     "execution_count": 39,
     "metadata": {},
     "output_type": "execute_result"
    }
   ],
   "source": [
    "nome[4:] # da posição 4 (inclusa) ao fim (excluso?)"
   ]
  },
  {
   "cell_type": "code",
   "execution_count": 46,
   "id": "cb9f723d-01c6-4497-b504-1ccec08e8a7c",
   "metadata": {
    "tags": []
   },
   "outputs": [
    {
     "data": {
      "text/plain": [
       "'Nádi'"
      ]
     },
     "execution_count": 46,
     "metadata": {},
     "output_type": "execute_result"
    }
   ],
   "source": [
    "nome[0:4] # note que o fim não é o último index"
   ]
  },
  {
   "cell_type": "code",
   "execution_count": 47,
   "id": "5bc4ea30-d733-482a-a564-d09ca039f76b",
   "metadata": {
    "tags": []
   },
   "outputs": [
    {
     "data": {
      "text/plain": [
       "'Nádia'"
      ]
     },
     "execution_count": 47,
     "metadata": {},
     "output_type": "execute_result"
    }
   ],
   "source": [
    "nome[0:5]"
   ]
  },
  {
   "cell_type": "code",
   "execution_count": 44,
   "id": "ba6d2214-3108-4d32-9baa-8fcc58384e1f",
   "metadata": {
    "tags": []
   },
   "outputs": [
    {
     "ename": "IndexError",
     "evalue": "string index out of range",
     "output_type": "error",
     "traceback": [
      "\u001b[0;31m---------------------------------------------------------------------------\u001b[0m",
      "\u001b[0;31mIndexError\u001b[0m                                Traceback (most recent call last)",
      "Cell \u001b[0;32mIn[44], line 1\u001b[0m\n\u001b[0;32m----> 1\u001b[0m \u001b[43mnome\u001b[49m\u001b[43m[\u001b[49m\u001b[38;5;241;43m5\u001b[39;49m\u001b[43m]\u001b[49m \u001b[38;5;66;03m# o fim não existe?\u001b[39;00m\n",
      "\u001b[0;31mIndexError\u001b[0m: string index out of range"
     ]
    }
   ],
   "source": [
    "nome[5] # o fim não existe?"
   ]
  },
  {
   "cell_type": "code",
   "execution_count": 45,
   "id": "96b3387f-f34b-4b01-bd9d-ae5cd9e4ac49",
   "metadata": {
    "tags": []
   },
   "outputs": [
    {
     "data": {
      "text/plain": [
       "'Nádia'"
      ]
     },
     "execution_count": 45,
     "metadata": {},
     "output_type": "execute_result"
    }
   ],
   "source": [
    "nome[0:666] # o fim é eterno?"
   ]
  },
  {
   "cell_type": "code",
   "execution_count": 48,
   "id": "c1be7b71-1451-4265-97a4-2cf0501c2f1d",
   "metadata": {
    "tags": []
   },
   "outputs": [
    {
     "data": {
      "text/plain": [
       "'ia'"
      ]
     },
     "execution_count": 48,
     "metadata": {},
     "output_type": "execute_result"
    }
   ],
   "source": [
    "nome[-2:] # do penúltimo (incluso) ao fim"
   ]
  },
  {
   "cell_type": "code",
   "execution_count": 49,
   "id": "220b7977-0a20-4564-b344-d414cd812a30",
   "metadata": {
    "tags": []
   },
   "outputs": [
    {
     "data": {
      "text/plain": [
       "'Nádia'"
      ]
     },
     "execution_count": 49,
     "metadata": {},
     "output_type": "execute_result"
    }
   ],
   "source": [
    "nome[:2] + nome[2:]"
   ]
  },
  {
   "cell_type": "code",
   "execution_count": 51,
   "id": "5d7e991d-6c86-4541-97a9-df63cfe0ba4f",
   "metadata": {
    "tags": []
   },
   "outputs": [
    {
     "data": {
      "text/plain": [
       "'Nádia'"
      ]
     },
     "execution_count": 51,
     "metadata": {},
     "output_type": "execute_result"
    }
   ],
   "source": [
    "nome[:-4] + nome[-4:] # s[:i] + s[i:] = s"
   ]
  },
  {
   "cell_type": "markdown",
   "id": "65f8c1b3-2a74-4dfc-8682-7b8aad12d9a2",
   "metadata": {},
   "source": [
    "O tipo string é imutável, portanto não é possível atribuir um valor a um índice dela."
   ]
  },
  {
   "cell_type": "code",
   "execution_count": 52,
   "id": "3a26a041-7ee1-407d-98e9-ac8ab7b2d832",
   "metadata": {
    "tags": []
   },
   "outputs": [
    {
     "ename": "TypeError",
     "evalue": "'str' object does not support item assignment",
     "output_type": "error",
     "traceback": [
      "\u001b[0;31m---------------------------------------------------------------------------\u001b[0m",
      "\u001b[0;31mTypeError\u001b[0m                                 Traceback (most recent call last)",
      "Cell \u001b[0;32mIn[52], line 1\u001b[0m\n\u001b[0;32m----> 1\u001b[0m \u001b[43mnome\u001b[49m\u001b[43m[\u001b[49m\u001b[43m:\u001b[49m\u001b[38;5;241;43m2\u001b[39;49m\u001b[43m]\u001b[49m \u001b[38;5;241m=\u001b[39m \u001b[38;5;124m\"\u001b[39m\u001b[38;5;124mva\u001b[39m\u001b[38;5;124m\"\u001b[39m\n",
      "\u001b[0;31mTypeError\u001b[0m: 'str' object does not support item assignment"
     ]
    }
   ],
   "source": [
    "nome[:2] = \"va\""
   ]
  },
  {
   "cell_type": "markdown",
   "id": "3b1024c9-6395-4783-9f95-40ad1408a08e",
   "metadata": {},
   "source": [
    "A cereja do bolo é o método `len()` que informa o tamanho da string, sim, foda-se como se escreve lentgh."
   ]
  },
  {
   "cell_type": "markdown",
   "id": "2ee23fa6-71b4-4628-8fb6-b7636f7d9a3a",
   "metadata": {
    "tags": []
   },
   "source": [
    "#### 3.1.3. Lists\n",
    "\n",
    "As listas são do tipo composto, elas são delimitadas por colchetes `[...]` e têm seus valores separado por vírgulas `,` ."
   ]
  },
  {
   "cell_type": "code",
   "execution_count": 54,
   "id": "8a2dd5e2-8adc-474f-877a-5d3e46d78d99",
   "metadata": {
    "tags": []
   },
   "outputs": [
    {
     "data": {
      "text/plain": [
       "[1, 4, 9, 16, 25]"
      ]
     },
     "execution_count": 54,
     "metadata": {},
     "output_type": "execute_result"
    }
   ],
   "source": [
    "quadrados = [1, 4, 9, 16, 25]\n",
    "quadrados"
   ]
  },
  {
   "cell_type": "markdown",
   "id": "7503c3c2-7d0a-49b9-a592-9564a5e67a8e",
   "metadata": {},
   "source": [
    "Como as strings (e demais tipos sequenciais), listas podem ser indexadas e fatiadas (*slice*)."
   ]
  },
  {
   "cell_type": "code",
   "execution_count": 55,
   "id": "c4dd3afc-2cf4-47b7-a1d9-226d1bbaf13c",
   "metadata": {
    "tags": []
   },
   "outputs": [
    {
     "data": {
      "text/plain": [
       "1"
      ]
     },
     "execution_count": 55,
     "metadata": {},
     "output_type": "execute_result"
    }
   ],
   "source": [
    "quadrados[0] # indexando retorna o item"
   ]
  },
  {
   "cell_type": "code",
   "execution_count": 57,
   "id": "a80e9613-6ee9-4d97-9b88-387a2c5daf37",
   "metadata": {
    "tags": []
   },
   "outputs": [
    {
     "data": {
      "text/plain": [
       "[9, 16, 25]"
      ]
     },
     "execution_count": 57,
     "metadata": {},
     "output_type": "execute_result"
    }
   ],
   "source": [
    "quadrados[-3:] # fatiar retorna uma nova lista"
   ]
  },
  {
   "cell_type": "code",
   "execution_count": 58,
   "id": "f9572ca2-2be3-4bf1-807d-128a481aae01",
   "metadata": {
    "tags": []
   },
   "outputs": [
    {
     "data": {
      "text/plain": [
       "[1, 4, 9, 16, 25]"
      ]
     },
     "execution_count": 58,
     "metadata": {},
     "output_type": "execute_result"
    }
   ],
   "source": [
    "quadrados[:] # shallow copy"
   ]
  },
  {
   "cell_type": "markdown",
   "id": "afec1ab1-8348-48f9-ae02-d7cdcce5f961",
   "metadata": {},
   "source": [
    "É possível concatenar listas."
   ]
  },
  {
   "cell_type": "code",
   "execution_count": 59,
   "id": "2977e87b-68a8-46aa-942f-44dea2adb831",
   "metadata": {
    "tags": []
   },
   "outputs": [
    {
     "data": {
      "text/plain": [
       "[1, 4, 9, 16, 25, 36, 49, 64, 81, 100]"
      ]
     },
     "execution_count": 59,
     "metadata": {},
     "output_type": "execute_result"
    }
   ],
   "source": [
    "quadrados + [36, 49, 64, 81, 100] # assim como o slice também retorna uma nova lista"
   ]
  },
  {
   "cell_type": "code",
   "execution_count": 61,
   "id": "c0c13568-d636-4a2b-aa85-1169af48360c",
   "metadata": {
    "tags": []
   },
   "outputs": [
    {
     "data": {
      "text/plain": [
       "[1, 4, 9, 16, 25]"
      ]
     },
     "execution_count": 61,
     "metadata": {},
     "output_type": "execute_result"
    }
   ],
   "source": [
    "quadrados # a original não foi modificada"
   ]
  },
  {
   "cell_type": "markdown",
   "id": "69425d0a-df58-44e7-bf99-d6dfb22ce47f",
   "metadata": {},
   "source": [
    "Diferente das strings, as listas são do tipo mutável, sendo possível atribuir novos valores tanto em uma única posição quanto em um intervalo."
   ]
  },
  {
   "cell_type": "code",
   "execution_count": 64,
   "id": "2bf6160f-ae69-4ada-a492-e9fd30115978",
   "metadata": {
    "tags": []
   },
   "outputs": [
    {
     "data": {
      "text/plain": [
       "[1, 8, 27, 64, 125]"
      ]
     },
     "execution_count": 64,
     "metadata": {},
     "output_type": "execute_result"
    }
   ],
   "source": [
    "cubos = [1, 8, 27, 65, 125] # algo está errado\n",
    "cubos[3] = 4 ** 3\n",
    "cubos"
   ]
  },
  {
   "cell_type": "code",
   "execution_count": 66,
   "id": "cd775254-7aef-4b5e-ac44-ac0d92147763",
   "metadata": {
    "tags": []
   },
   "outputs": [
    {
     "data": {
      "text/plain": [
       "['a', 'b', 'c', 'd', 'e', 'f', 'g']"
      ]
     },
     "execution_count": 66,
     "metadata": {},
     "output_type": "execute_result"
    }
   ],
   "source": [
    "letras = ['a', 'b', 'c', 'd', 'e', 'f', 'g']\n",
    "letras"
   ]
  },
  {
   "cell_type": "code",
   "execution_count": 65,
   "id": "373c69fe-eee2-4ae3-a48e-b28047ff5fee",
   "metadata": {
    "tags": []
   },
   "outputs": [
    {
     "data": {
      "text/plain": [
       "['a', 'b', 'C', 'D', 'E', 'f', 'g']"
      ]
     },
     "execution_count": 65,
     "metadata": {},
     "output_type": "execute_result"
    }
   ],
   "source": [
    "letras[2:5] = ['C', 'D', 'E'] # substituição de valores\n",
    "letras"
   ]
  },
  {
   "cell_type": "code",
   "execution_count": 67,
   "id": "0203129a-d0bd-42a7-aa2a-96c1437e5098",
   "metadata": {
    "tags": []
   },
   "outputs": [
    {
     "data": {
      "text/plain": [
       "['a', 'b', 'f', 'g']"
      ]
     },
     "execution_count": 67,
     "metadata": {},
     "output_type": "execute_result"
    }
   ],
   "source": [
    "letras[2:5] = [] # removendo valores\n",
    "letras"
   ]
  },
  {
   "cell_type": "code",
   "execution_count": 68,
   "id": "4db221bf-e41a-4931-8398-5c50972e69df",
   "metadata": {
    "tags": []
   },
   "outputs": [
    {
     "data": {
      "text/plain": [
       "[]"
      ]
     },
     "execution_count": 68,
     "metadata": {},
     "output_type": "execute_result"
    }
   ],
   "source": [
    "letras[:] = [] # limpa a lista\n",
    "letras"
   ]
  },
  {
   "cell_type": "markdown",
   "id": "8d29e97f-7276-42f2-a54f-de9d925e0e1f",
   "metadata": {},
   "source": [
    "O glorioso `len()` também é um método das listas."
   ]
  },
  {
   "cell_type": "code",
   "execution_count": 69,
   "id": "611b0dcf-cf9f-4657-9922-e85e74d49da1",
   "metadata": {
    "tags": []
   },
   "outputs": [
    {
     "data": {
      "text/plain": [
       "[['a', 'b', 'c'], [1, 2, 3]]"
      ]
     },
     "execution_count": 69,
     "metadata": {},
     "output_type": "execute_result"
    }
   ],
   "source": [
    "a = ['a', 'b', 'c']\n",
    "n = [1, 2, 3]\n",
    "x = [a, n]\n",
    "x"
   ]
  },
  {
   "cell_type": "code",
   "execution_count": 70,
   "id": "84aa68d4-cc89-4bea-8f16-176784e31d24",
   "metadata": {
    "tags": []
   },
   "outputs": [
    {
     "data": {
      "text/plain": [
       "False"
      ]
     },
     "execution_count": 70,
     "metadata": {},
     "output_type": "execute_result"
    }
   ],
   "source": [
    "len(x) > len(x[0])"
   ]
  }
 ],
 "metadata": {
  "kernelspec": {
   "display_name": "Python 3 (ipykernel)",
   "language": "python",
   "name": "python3"
  },
  "language_info": {
   "codemirror_mode": {
    "name": "ipython",
    "version": 3
   },
   "file_extension": ".py",
   "mimetype": "text/x-python",
   "name": "python",
   "nbconvert_exporter": "python",
   "pygments_lexer": "ipython3",
   "version": "3.10.7"
  }
 },
 "nbformat": 4,
 "nbformat_minor": 5
}
