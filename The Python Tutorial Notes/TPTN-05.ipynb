{
 "cells": [
  {
   "cell_type": "markdown",
   "id": "06dc2d85-7ffb-439a-b3bd-ec79d4539f6c",
   "metadata": {},
   "source": [
    "# The Python Tutorial Notes\n",
    "\n",
    "## 5. Data Structures\n",
    "\n",
    "### 5.1. More on Lists\n",
    "\n",
    "Os métodos dos objetos lista:\n",
    "\n",
    "- `list.append(x)`\n",
    "\n",
    "    Anexa um item ao final da lista. Equivalente a `a[len(a):] = [x]`."
   ]
  },
  {
   "cell_type": "code",
   "execution_count": 1,
   "id": "7365e431-5ea4-4ab6-9036-45e7bff21cee",
   "metadata": {
    "tags": []
   },
   "outputs": [
    {
     "data": {
      "text/plain": [
       "['Gaita', 'Spirulino', 'Pimentinha', 'Banjo', 'Boldo', 'Canela']"
      ]
     },
     "execution_count": 1,
     "metadata": {},
     "output_type": "execute_result"
    }
   ],
   "source": [
    "bichos = ['Gaita', 'Spirulino', 'Pimentinha', 'Banjo', 'Boldo']\n",
    "bichos.append('Canela')\n",
    "bichos"
   ]
  },
  {
   "cell_type": "code",
   "execution_count": null,
   "id": "79f80f7d-c210-44c9-b9a2-4268f853ab8d",
   "metadata": {},
   "outputs": [],
   "source": []
  }
 ],
 "metadata": {
  "kernelspec": {
   "display_name": "Python 3 (ipykernel)",
   "language": "python",
   "name": "python3"
  },
  "language_info": {
   "codemirror_mode": {
    "name": "ipython",
    "version": 3
   },
   "file_extension": ".py",
   "mimetype": "text/x-python",
   "name": "python",
   "nbconvert_exporter": "python",
   "pygments_lexer": "ipython3",
   "version": "3.10.7"
  }
 },
 "nbformat": 4,
 "nbformat_minor": 5
}
