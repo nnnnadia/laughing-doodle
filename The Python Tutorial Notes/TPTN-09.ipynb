{
 "cells": [
  {
   "cell_type": "markdown",
   "id": "af0ffd0e-9254-464e-b59d-a68b0e27cebd",
   "metadata": {},
   "source": [
    "# The Python Tutorial Notes\n",
    "\n",
    "## 9. Classes"
   ]
  }
 ],
 "metadata": {
  "kernelspec": {
   "display_name": "Python 3 (ipykernel)",
   "language": "python",
   "name": "python3"
  },
  "language_info": {
   "codemirror_mode": {
    "name": "ipython",
    "version": 3
   },
   "file_extension": ".py",
   "mimetype": "text/x-python",
   "name": "python",
   "nbconvert_exporter": "python",
   "pygments_lexer": "ipython3",
   "version": "3.10.7"
  }
 },
 "nbformat": 4,
 "nbformat_minor": 5
}
